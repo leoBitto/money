{
 "cells": [
  {
   "cell_type": "code",
   "execution_count": 29,
   "metadata": {},
   "outputs": [],
   "source": [
    "import gspread\n",
    "from google.oauth2.service_account import Credentials\n",
    "import pandas as pd\n",
    "from datetime import datetime\n",
    "import os"
   ]
  },
  {
   "cell_type": "code",
   "execution_count": 2,
   "metadata": {},
   "outputs": [],
   "source": [
    "# --- 1. Configurazione credenziali ---\n",
    "SERVICE_ACCOUNT_FILE = './service_account.json'  # percorso del tuo JSON\n",
    "SCOPES = [\"https://www.googleapis.com/auth/spreadsheets\",\n",
    "          \"https://www.googleapis.com/auth/drive\"]\n",
    "\n",
    "creds = Credentials.from_service_account_file(\n",
    "    SERVICE_ACCOUNT_FILE,\n",
    "    scopes=SCOPES\n",
    ")\n",
    "\n",
    "client = gspread.authorize(creds)"
   ]
  },
  {
   "cell_type": "code",
   "execution_count": 22,
   "metadata": {},
   "outputs": [],
   "source": [
    "# --- 2. Apri lo Sheet ---\n",
    "SPREADSHEET_ID = '1Uh3S3YCyvupZ5yZh2uDi0XYGaZIkEkupxsYed6xRxgA'  # prende l'ID dall'URL dello Sheet\n",
    "sheet = client.open_by_key(SPREADSHEET_ID)\n",
    "worksheet = sheet.sheet1  # prima tab del foglio"
   ]
  },
  {
   "cell_type": "code",
   "execution_count": 23,
   "metadata": {},
   "outputs": [],
   "source": [
    "\n",
    "# --- 3. Leggi i dati ---\n",
    "data = worksheet.get_all_records()  # ritorna lista di dict"
   ]
  },
  {
   "cell_type": "code",
   "execution_count": 27,
   "metadata": {},
   "outputs": [],
   "source": [
    "\n",
    "# --- 4. Trasforma in DataFrame e aggiungi data corrente ---\n",
    "df = pd.DataFrame(data)\n",
    "df['Data'] = datetime.today().strftime('%Y-%m-%d')\n",
    "df_csv = df[['Ticker', 'Data', 'Prezzo']]\n",
    "\n"
   ]
  },
  {
   "cell_type": "code",
   "execution_count": 30,
   "metadata": {},
   "outputs": [
    {
     "name": "stdout",
     "output_type": "stream",
     "text": [
      "CSV aggiornato: ./storico_prezzi.csv\n"
     ]
    }
   ],
   "source": [
    "\n",
    "CSV_FILE = './storico_prezzi.csv'\n",
    "\n",
    "# Controlla se il file esiste\n",
    "if os.path.exists(CSV_FILE):\n",
    "    # Se esiste, leggi il CSV esistente e concatena i nuovi dati\n",
    "    df_existing = pd.read_csv(CSV_FILE, sep=';')\n",
    "    df_csv = pd.concat([df_existing, df_csv], ignore_index=True)\n",
    "else:\n",
    "    # Se non esiste, usa solo i nuovi dati\n",
    "    df_csv = df_csv.copy()\n",
    "\n",
    "# Salva/aggiorna il CSV\n",
    "df_csv.to_csv(CSV_FILE, index=False, sep=';')\n",
    "print(f\"CSV aggiornato: {CSV_FILE}\")\n",
    "\n"
   ]
  }
 ],
 "metadata": {
  "kernelspec": {
   "display_name": "env",
   "language": "python",
   "name": "python3"
  },
  "language_info": {
   "codemirror_mode": {
    "name": "ipython",
    "version": 3
   },
   "file_extension": ".py",
   "mimetype": "text/x-python",
   "name": "python",
   "nbconvert_exporter": "python",
   "pygments_lexer": "ipython3",
   "version": "3.12.3"
  }
 },
 "nbformat": 4,
 "nbformat_minor": 2
}
